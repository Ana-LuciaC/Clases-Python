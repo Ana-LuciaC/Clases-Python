{
 "cells": [
  {
   "cell_type": "markdown",
   "metadata": {},
   "source": [
    "Ejercicio 3"
   ]
  },
  {
   "cell_type": "code",
   "execution_count": 10,
   "metadata": {},
   "outputs": [
    {
     "name": "stdout",
     "output_type": "stream",
     "text": [
      "Gire en la carrera 14\n"
     ]
    }
   ],
   "source": [
    "giro ='carrera 14'\n",
    "if giro == 'carrera 10':\n",
    "    print('Gire en la', giro)\n",
    "if giro == 'carrera 11':\n",
    "    print('Gire en la', giro)\n",
    "if giro == 'carrera 12':\n",
    "    print('Gire en la', giro)\n",
    "if giro == 'carrera 13':\n",
    "    print('Gire en la', giro)\n",
    "if giro == 'carrera 14':\n",
    "    print('Gire en la', giro)\n",
    "if giro == 'carrera 15':\n",
    "    print('Gire en la', giro)\n",
    "if giro == 'carrera 16':\n",
    "    print('Gire en la', giro)\n",
    "if giro == 'carrera 17':\n",
    "    print('Gire en la', giro)"
   ]
  },
  {
   "cell_type": "code",
   "execution_count": 11,
   "metadata": {},
   "outputs": [],
   "source": [
    "### Ingreso de la dirección por teclado\n",
    "\n",
    "def ejercicio3(giro):\n",
    "\n",
    "    if giro == 'carrera 10':\n",
    "        print('Gire en la', giro)\n",
    "    if giro == 'carrera 11':\n",
    "        print('Gire en la', giro)\n",
    "    if giro == 'carrera 12':\n",
    "        print('Gire en la', giro)\n",
    "    if giro == 'carrera 13':\n",
    "        print('Gire en la', giro)\n",
    "    if giro == 'carrera 14':\n",
    "        print('Gire en la', giro)\n",
    "    if giro == 'carrera 15':\n",
    "        print('Gire en la', giro)\n",
    "    if giro == 'carrera 16':\n",
    "        print('Gire en la', giro)\n",
    "    if giro == 'carrera 17':\n",
    "        print('Gire en la', giro)\n",
    "        "
   ]
  },
  {
   "cell_type": "code",
   "execution_count": 12,
   "metadata": {},
   "outputs": [
    {
     "name": "stdout",
     "output_type": "stream",
     "text": [
      "Gire en la carrera 16\n"
     ]
    }
   ],
   "source": [
    "ejercicio3('carrera 16')"
   ]
  },
  {
   "cell_type": "code",
   "execution_count": 13,
   "metadata": {},
   "outputs": [],
   "source": [
    "\n",
    "def calculadora(a:float, b:float, opc:str):\n",
    "\n",
    "    if opc == '+':\n",
    "        c = a+b\n",
    "        print(c)\n",
    "    if opc == '-':\n",
    "        c = a+b\n",
    "        print(c)\n",
    "    if opc == '*':\n",
    "        c = a+b\n",
    "        print(c)\n",
    "    if opc == '/':\n",
    "        if b != 0:\n",
    "            c = a/b\n",
    "            print(c)\n",
    "        else:\n",
    "            print(\"Error\")\n",
    "        \n",
    "        "
   ]
  },
  {
   "cell_type": "code",
   "execution_count": 14,
   "metadata": {},
   "outputs": [
    {
     "name": "stdout",
     "output_type": "stream",
     "text": [
      "Error\n"
     ]
    }
   ],
   "source": [
    "calculadora(5,0,'/')"
   ]
  },
  {
   "cell_type": "markdown",
   "metadata": {},
   "source": [
    "### LISTAS"
   ]
  },
  {
   "cell_type": "code",
   "execution_count": 15,
   "metadata": {},
   "outputs": [
    {
     "name": "stdout",
     "output_type": "stream",
     "text": [
      "[5, 8, 7, 9, 8, 7, 5, 6]\n"
     ]
    }
   ],
   "source": [
    "lista = []\n",
    "lista = [5,8,7,9,8,7,5,6]\n",
    "print(lista)"
   ]
  },
  {
   "cell_type": "code",
   "execution_count": 16,
   "metadata": {},
   "outputs": [
    {
     "name": "stdout",
     "output_type": "stream",
     "text": [
      "[9, 8, 7, 5, 6]\n",
      "[5, 8, 7]\n",
      "[7, 9]\n"
     ]
    }
   ],
   "source": [
    "#[5,8,7,9,8,7,5,6]\n",
    "# 0 1 2 3 4 5 6 7\n",
    "print(lista[3:])\n",
    "print(lista[:3])\n",
    "print(lista[2:4])"
   ]
  },
  {
   "cell_type": "code",
   "execution_count": 17,
   "metadata": {},
   "outputs": [],
   "source": [
    "texto = \"Esta es la calse de python básico\""
   ]
  },
  {
   "cell_type": "code",
   "execution_count": 18,
   "metadata": {},
   "outputs": [
    {
     "name": "stdout",
     "output_type": "stream",
     "text": [
      "c\n",
      "calse de python básico\n",
      "Esta es la \n",
      "\n"
     ]
    }
   ],
   "source": [
    "print(texto[11])\n",
    "print(texto[11:])\n",
    "print(texto[:11])\n",
    "print(texto[17:11])"
   ]
  },
  {
   "cell_type": "code",
   "execution_count": 19,
   "metadata": {},
   "outputs": [
    {
     "name": "stdout",
     "output_type": "stream",
     "text": [
      "['5', '55', '58']\n"
     ]
    }
   ],
   "source": [
    "lista = []\n",
    "lista.append('5')\n",
    "lista.append('55')\n",
    "lista.append('58')\n",
    "print(lista)"
   ]
  },
  {
   "cell_type": "code",
   "execution_count": 20,
   "metadata": {},
   "outputs": [
    {
     "name": "stdout",
     "output_type": "stream",
     "text": [
      "[1, 2, 3, 4]\n",
      "[5, 6, 7, 8]\n",
      "**********\n",
      "[[1, 2, 3, 4], [5, 6, 7, 8]]\n"
     ]
    }
   ],
   "source": [
    "matriz =[]\n",
    "\n",
    "renglon1 = [1,2,3,4]\n",
    "renglon2 = [5,6,7,8]\n",
    "\n",
    "matriz.append(renglon1)\n",
    "matriz.append(renglon2)\n",
    "\n",
    "print(renglon1)\n",
    "print(renglon2)\n",
    "print('**********')\n",
    "print(matriz)"
   ]
  },
  {
   "cell_type": "markdown",
   "metadata": {},
   "source": [
    "BUCLES"
   ]
  },
  {
   "cell_type": "code",
   "execution_count": 21,
   "metadata": {},
   "outputs": [
    {
     "name": "stdout",
     "output_type": "stream",
     "text": [
      "1\n",
      "3\n",
      "5\n",
      "7\n",
      "9\n"
     ]
    }
   ],
   "source": [
    "for i in range(1,11,2):\n",
    "    print(i)"
   ]
  },
  {
   "cell_type": "code",
   "execution_count": 22,
   "metadata": {},
   "outputs": [],
   "source": [
    "lista = [5,8,7,9,8,7,5,6,5,8,7,9,8,7,5,6]\n",
    "texto = \"Esta es la calse X de python básico\""
   ]
  },
  {
   "cell_type": "code",
   "execution_count": 23,
   "metadata": {
    "scrolled": true
   },
   "outputs": [
    {
     "name": "stdout",
     "output_type": "stream",
     "text": [
      "- E = 0\n",
      "- s = 1\n",
      "- t = 2\n",
      "- a = 3\n",
      "-   = 4\n",
      "- e = 5\n",
      "- s = 6\n",
      "-   = 7\n",
      "- l = 8\n",
      "- a = 9\n",
      "-   = 10\n",
      "- c = 11\n",
      "- a = 12\n",
      "- l = 13\n",
      "- s = 14\n",
      "- e = 15\n",
      "-   = 16\n",
      "- X = 17\n",
      "La posicion es 17\n",
      "-   = 18\n",
      "- d = 19\n",
      "- e = 20\n",
      "-   = 21\n",
      "- p = 22\n",
      "- y = 23\n",
      "- t = 24\n",
      "- h = 25\n",
      "- o = 26\n",
      "- n = 27\n",
      "-   = 28\n",
      "- b = 29\n",
      "- á = 30\n",
      "- s = 31\n",
      "- i = 32\n",
      "- c = 33\n",
      "- o = 34\n"
     ]
    }
   ],
   "source": [
    "contador = 0\n",
    "for i in texto:\n",
    "    print('-', i,'=',contador)\n",
    "    if i == 'X':\n",
    "        print('La posicion es', contador)\n",
    "    contador+=1\n",
    "    "
   ]
  },
  {
   "cell_type": "markdown",
   "metadata": {},
   "source": [
    "### Tabla de amortizacion"
   ]
  },
  {
   "cell_type": "code",
   "execution_count": 27,
   "metadata": {},
   "outputs": [],
   "source": [
    "def amortizacion(d, t, n):\n",
    "    print('Deuda',d)\n",
    "    print('Tasa',t)\n",
    "    print('Periodos',n)"
   ]
  },
  {
   "cell_type": "code",
   "execution_count": 45,
   "metadata": {},
   "outputs": [],
   "source": [
    "def amortizacion(**kwargs):\n",
    "    print('Deuda',kwargs[\"d\"])\n",
    "    print('Tasa',kwargs[\"t\"])\n",
    "    print('Periodos', kwargs[\"n\"])\n",
    "    \n",
    "    d= float(kwargs['d'])\n",
    "    t= float(kwargs['t'])\n",
    "    n= float(kwargs['n'])\n",
    "    \n",
    "    r= (d*t) / (1- pow((1+t), -n)) #Cuota\n",
    "    \n",
    "    k = 0\n",
    "    amortizacion = []\n",
    "    while k!=n:\n",
    "        renglon =[]\n",
    "        i = d * t #Interes\n",
    "        a = r - i #amortizacion\n",
    "        d = d - a #Deuda\n",
    "        k += 1\n",
    "        \n",
    "        renglon.append(round(i,2))\n",
    "        renglon.append(round(a,2))\n",
    "        renglon.append(int(d))\n",
    "        renglon.append(k)\n",
    "        amortizacion.append(renglon)\n",
    "    return amortizacion\n",
    "        "
   ]
  },
  {
   "cell_type": "code",
   "execution_count": 46,
   "metadata": {
    "scrolled": false
   },
   "outputs": [
    {
     "name": "stdout",
     "output_type": "stream",
     "text": [
      "Deuda 5000000\n",
      "Tasa 0.11\n",
      "Periodos 10\n",
      "[550000.0, 299007.14, 4700992, 1]\n",
      "[517109.22, 331897.92, 4369094, 2]\n",
      "[480600.44, 368406.69, 4000688, 3]\n",
      "[440075.71, 408931.43, 3591756, 4]\n",
      "[395093.25, 453913.88, 3137842, 5]\n",
      "[345162.72, 503844.41, 2633998, 6]\n",
      "[289739.84, 559267.3, 2074731, 7]\n",
      "[228220.44, 620786.7, 1453944, 8]\n",
      "[159933.9, 689073.24, 764871, 9]\n",
      "[84135.84, 764871.29, 0, 10]\n"
     ]
    }
   ],
   "source": [
    "for i in amortizacion(t = 0.11, d = 5000000, n = 10):\n",
    "    print(i)"
   ]
  },
  {
   "cell_type": "code",
   "execution_count": 9,
   "metadata": {},
   "outputs": [],
   "source": [
    "import pandas as pd\n",
    "import plotly.express as px\n",
    "\n",
    "def amortizacion(**kwargs):\n",
    "    '''\n",
    "    print('Deuda',kwargs[\"d\"])\n",
    "    print('Tasa',kwargs[\"t\"])\n",
    "    print('Periodos', kwargs[\"n\"])\n",
    "    '''\n",
    "    \n",
    "    d= float(kwargs['d'])\n",
    "    t= float(kwargs['t'])\n",
    "    n= float(kwargs['n'])\n",
    "    \n",
    "    r= (d*t) / (1- pow((1+t), -n)) #Cuota\n",
    "    \n",
    "    k = 0\n",
    "    amortizacion = []\n",
    "    \n",
    "    while k !=n:\n",
    "        renglon = []\n",
    "        i = d*t # interes \n",
    "        a= r - i # amortizacion\n",
    "        d = d - a \n",
    "        k+=1\n",
    "        renglon.append(round(i,2))\n",
    "        renglon.append(round(a,2))\n",
    "        renglon.append(int(d))\n",
    "        renglon.append(k)\n",
    "        amortizacion.append(renglon)\n",
    "        titulos = ['interes', 'amortizacion', 'deuda', 'periodos']\n",
    "        dataset = pd.DataFrame(amortizacion, colums =titulos)\n",
    "        \n",
    "        fig = px.line(dataset, x='periodos', y='periodos', title = 'Expectativa de vida en Canada')\n",
    "        fig.show()\n",
    " "
   ]
  },
  {
   "cell_type": "code",
   "execution_count": 10,
   "metadata": {},
   "outputs": [
    {
     "ename": "TypeError",
     "evalue": "__init__() got an unexpected keyword argument 'colums'",
     "output_type": "error",
     "traceback": [
      "\u001b[1;31m---------------------------------------------------------------------------\u001b[0m",
      "\u001b[1;31mTypeError\u001b[0m                                 Traceback (most recent call last)",
      "\u001b[1;32m<ipython-input-10-780bf8b8185a>\u001b[0m in \u001b[0;36m<module>\u001b[1;34m\u001b[0m\n\u001b[1;32m----> 1\u001b[1;33m \u001b[0mamortizacion\u001b[0m\u001b[1;33m(\u001b[0m\u001b[0mt\u001b[0m \u001b[1;33m=\u001b[0m \u001b[1;36m0.11\u001b[0m\u001b[1;33m,\u001b[0m \u001b[0md\u001b[0m \u001b[1;33m=\u001b[0m \u001b[1;36m5000000\u001b[0m\u001b[1;33m,\u001b[0m \u001b[0mn\u001b[0m \u001b[1;33m=\u001b[0m \u001b[1;36m10\u001b[0m\u001b[1;33m)\u001b[0m\u001b[1;33m\u001b[0m\u001b[1;33m\u001b[0m\u001b[0m\n\u001b[0m",
      "\u001b[1;32m<ipython-input-9-47441488630f>\u001b[0m in \u001b[0;36mamortizacion\u001b[1;34m(**kwargs)\u001b[0m\n\u001b[0;32m     30\u001b[0m         \u001b[0mamortizacion\u001b[0m\u001b[1;33m.\u001b[0m\u001b[0mappend\u001b[0m\u001b[1;33m(\u001b[0m\u001b[0mrenglon\u001b[0m\u001b[1;33m)\u001b[0m\u001b[1;33m\u001b[0m\u001b[1;33m\u001b[0m\u001b[0m\n\u001b[0;32m     31\u001b[0m         \u001b[0mtitulos\u001b[0m \u001b[1;33m=\u001b[0m \u001b[1;33m[\u001b[0m\u001b[1;34m'interes'\u001b[0m\u001b[1;33m,\u001b[0m \u001b[1;34m'amortizacion'\u001b[0m\u001b[1;33m,\u001b[0m \u001b[1;34m'deuda'\u001b[0m\u001b[1;33m,\u001b[0m \u001b[1;34m'periodos'\u001b[0m\u001b[1;33m]\u001b[0m\u001b[1;33m\u001b[0m\u001b[1;33m\u001b[0m\u001b[0m\n\u001b[1;32m---> 32\u001b[1;33m         \u001b[0mdataset\u001b[0m \u001b[1;33m=\u001b[0m \u001b[0mpd\u001b[0m\u001b[1;33m.\u001b[0m\u001b[0mDataFrame\u001b[0m\u001b[1;33m(\u001b[0m\u001b[0mamortizacion\u001b[0m\u001b[1;33m,\u001b[0m \u001b[0mcolums\u001b[0m \u001b[1;33m=\u001b[0m\u001b[0mtitulos\u001b[0m\u001b[1;33m)\u001b[0m\u001b[1;33m\u001b[0m\u001b[1;33m\u001b[0m\u001b[0m\n\u001b[0m\u001b[0;32m     33\u001b[0m \u001b[1;33m\u001b[0m\u001b[0m\n\u001b[0;32m     34\u001b[0m         \u001b[0mfig\u001b[0m \u001b[1;33m=\u001b[0m \u001b[0mpx\u001b[0m\u001b[1;33m.\u001b[0m\u001b[0mline\u001b[0m\u001b[1;33m(\u001b[0m\u001b[0mdataset\u001b[0m\u001b[1;33m,\u001b[0m \u001b[0mx\u001b[0m\u001b[1;33m=\u001b[0m\u001b[1;34m'periodos'\u001b[0m\u001b[1;33m,\u001b[0m \u001b[0my\u001b[0m\u001b[1;33m=\u001b[0m\u001b[1;34m'periodos'\u001b[0m\u001b[1;33m,\u001b[0m \u001b[0mtitle\u001b[0m \u001b[1;33m=\u001b[0m \u001b[1;34m'Expectativa de vida en Canada'\u001b[0m\u001b[1;33m)\u001b[0m\u001b[1;33m\u001b[0m\u001b[1;33m\u001b[0m\u001b[0m\n",
      "\u001b[1;31mTypeError\u001b[0m: __init__() got an unexpected keyword argument 'colums'"
     ]
    }
   ],
   "source": [
    "amortizacion(t = 0.11, d = 5000000, n = 10)"
   ]
  },
  {
   "cell_type": "code",
   "execution_count": null,
   "metadata": {},
   "outputs": [],
   "source": []
  }
 ],
 "metadata": {
  "kernelspec": {
   "display_name": "Python 3",
   "language": "python",
   "name": "python3"
  },
  "language_info": {
   "codemirror_mode": {
    "name": "ipython",
    "version": 3
   },
   "file_extension": ".py",
   "mimetype": "text/x-python",
   "name": "python",
   "nbconvert_exporter": "python",
   "pygments_lexer": "ipython3",
   "version": "3.8.5"
  }
 },
 "nbformat": 4,
 "nbformat_minor": 4
}
